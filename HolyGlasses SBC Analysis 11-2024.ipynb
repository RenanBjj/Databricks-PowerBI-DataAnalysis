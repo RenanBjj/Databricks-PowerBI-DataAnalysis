{
 "cells": [
  {
   "cell_type": "code",
   "execution_count": 0,
   "metadata": {
    "application/vnd.databricks.v1+cell": {
     "cellMetadata": {
      "byteLimit": 2048000,
      "rowLimit": 10000
     },
     "inputWidgets": {},
     "nuid": "7ec5f5c3-19be-4b0e-b167-d4a131add4cc",
     "showTitle": false,
     "tableResultSettingsMap": {},
     "title": ""
    }
   },
   "outputs": [],
   "source": [
    "import pandas as pd\n",
    "from pyspark.sql.functions import col, regexp_replace, cast, substring, desc, when, upper, format_number, countDistinct, to_date, count\n"
   ]
  },
  {
   "cell_type": "code",
   "execution_count": 0,
   "metadata": {
    "application/vnd.databricks.v1+cell": {
     "cellMetadata": {
      "byteLimit": 2048000,
      "rowLimit": 10000
     },
     "inputWidgets": {},
     "nuid": "6b464dc0-1799-414b-857d-390098d4f633",
     "showTitle": false,
     "tableResultSettingsMap": {},
     "title": ""
    }
   },
   "outputs": [],
   "source": [
    "# Starting Bronze Layer"
   ]
  },
  {
   "cell_type": "code",
   "execution_count": 0,
   "metadata": {
    "application/vnd.databricks.v1+cell": {
     "cellMetadata": {
      "byteLimit": 2048000,
      "rowLimit": 10000
     },
     "inputWidgets": {},
     "nuid": "6757f8b8-0e80-4b00-8fcb-70173a1fe6a1",
     "showTitle": false,
     "tableResultSettingsMap": {},
     "title": ""
    }
   },
   "outputs": [],
   "source": [
    "# Getting all files names\n",
    "all_files = dbutils.fs.ls('dbfs:/FileStore/tables/')\n",
    "\n",
    "# Getting CSV sales files and organizing by date (recent first) - Only SBC\n",
    "sales_files = [file for file in all_files if file.name.startswith('exportacao_venda') and file.name.endswith('sbc.csv')]\n",
    "sales_files = sorted(sales_files, key=lambda file: file.modificationTime, reverse=True)\n",
    "\n",
    "# Getting CSV product files and organizing by date (recent first)\n",
    "product_files = [file for file in all_files if file.name.startswith('exportacao_produto') and file.name.endswith('csv')]\n",
    "product_files = sorted(product_files, key=lambda file: file.modificationTime, reverse=True)\n",
    "\n",
    "# Getting CSV customers files and organizing by date (recent first)\n",
    "customers_files = [file for file in all_files if file.name.startswith('clientes') and file.name.endswith('csv')]\n",
    "customers_files = sorted(customers_files, key=lambda file: file.modificationTime, reverse=True)"
   ]
  },
  {
   "cell_type": "code",
   "execution_count": 0,
   "metadata": {
    "application/vnd.databricks.v1+cell": {
     "cellMetadata": {
      "byteLimit": 2048000,
      "rowLimit": 10000
     },
     "inputWidgets": {},
     "nuid": "6c9993e6-96e3-4ba5-a7c0-0eb8dfcd6f90",
     "showTitle": false,
     "tableResultSettingsMap": {},
     "title": ""
    }
   },
   "outputs": [],
   "source": [
    "bronze_sales = spark.read.csv(sales_files[0].path, inferSchema=True, header=True, encoding='latin1')\n",
    "bronze_products = spark.read.csv(product_files[0].path, inferSchema=True, header=True, encoding='latin1')\n",
    "bronze_customers = spark.read.csv(customers_files[0].path, inferSchema=True, header=True, encoding='latin1')"
   ]
  },
  {
   "cell_type": "code",
   "execution_count": 0,
   "metadata": {
    "application/vnd.databricks.v1+cell": {
     "cellMetadata": {
      "byteLimit": 2048000,
      "rowLimit": 10000
     },
     "inputWidgets": {},
     "nuid": "964e1eac-01b7-4448-a4ad-ad820813886a",
     "showTitle": false,
     "tableResultSettingsMap": {},
     "title": ""
    }
   },
   "outputs": [],
   "source": [
    "# Finishing Bronze Layer\n",
    "# Starting Silver Layer"
   ]
  },
  {
   "cell_type": "code",
   "execution_count": 0,
   "metadata": {
    "application/vnd.databricks.v1+cell": {
     "cellMetadata": {
      "byteLimit": 2048000,
      "rowLimit": 10000
     },
     "inputWidgets": {},
     "nuid": "2e725340-f4df-45da-9421-6cd6315fb272",
     "showTitle": false,
     "tableResultSettingsMap": {},
     "title": ""
    }
   },
   "outputs": [],
   "source": [
    "# SALES DF\n",
    "\n",
    "# Selecting only required columns\n",
    "silver_sales = bronze_sales.select(['Número Venda',\n",
    " 'Data',\n",
    " 'Número OS',\n",
    " 'Funcionário',\n",
    " 'Cliente',\n",
    " 'Documento',\n",
    " 'Telefones',\n",
    " 'Item - Referência',\n",
    " 'Item - Descrição',\n",
    " 'Item - Quantidade',\n",
    " 'Item - Valor Original',\n",
    " 'Item - Valor Total Líquido'])\n",
    "\n",
    "# Renaming columns\n",
    "silver_sales = silver_sales.withColumnsRenamed(\n",
    "    {\n",
    "        'Número Venda':'OrderID',\n",
    "        'Data':'Date',\n",
    "        'Número OS':'OS_number',\n",
    "        'Funcionário':'Employee',\n",
    "        'Cliente':'Customer',\n",
    "        'Documento':'CustomerID',\n",
    "        'Telefones':'Contact',\n",
    "        'Item - Referência':'Ref',\n",
    "        'Item - Descrição':'Description',\n",
    "        'Item - Quantidade':'Qtd',\n",
    "        'Item - Valor Original':'Original_price',\n",
    "        'Item - Valor Total Líquido':'Final_price'\n",
    "    }\n",
    ")\n",
    "\n",
    "# Droping Null values (all null lines)\n",
    "silver_sales = silver_sales.dropna('all')\n",
    "\n",
    "# Adjusting values ponctuation and Columns types\n",
    "silver_sales = silver_sales.withColumn('Original_price', regexp_replace('Original_price', ',', '.'))\\\n",
    "    .withColumn('Qtd', regexp_replace('Qtd', ',', '.'))\\\n",
    "    .withColumn('Final_price', regexp_replace('Final_price', ',', '.'))\\\n",
    "    .withColumn('Original_price', col('Original_price').cast('float'))\\\n",
    "    .withColumn('Qtd', col('Qtd').cast('int'))\\\n",
    "    .withColumn('Final_price', col('Final_price').cast('float'))\n",
    "\n",
    "# Transforming to pandas for filling empty values ​​with ffill method\n",
    "silver_sales = silver_sales.toPandas()\n",
    "silver_sales.fillna(method='ffill', inplace=True)\n",
    "\n",
    "# Creating Spark DF with modified DF\n",
    "silver_sales = spark.createDataFrame(silver_sales)\n",
    "\n",
    "# Creating new columns (Month, Year, Total Price and Price Difference (Discounts and additions))\n",
    "silver_sales = silver_sales.withColumn('Month', substring('date', 4, 2))\\\n",
    "    .withColumn('Year', substring('date', 7, 4))\n",
    "\n",
    "silver_sales = silver_sales.withColumn('Total_price', col('Qtd') * col('Original_price'))\n",
    "silver_sales = silver_sales.withColumn('Price_diff', col('Final_price') - col('Total_price'))\n",
    "\n",
    "# Rearranging columns\n",
    "silver_sales = silver_sales.select(['OrderID',\n",
    " 'Date',\n",
    " 'OS_number',\n",
    " 'Employee',\n",
    " 'Customer',\n",
    " 'CustomerID',\n",
    " 'Contact',\n",
    " 'Ref',\n",
    " 'Description',\n",
    " 'Qtd',\n",
    " 'Original_price',\n",
    " 'Total_price',\n",
    " 'Price_diff',\n",
    " 'Final_price',\n",
    " 'Month',\n",
    " 'Year'])\n",
    "\n",
    "# Adjusting Refs to uppercase (to avoid typing mismatches)\n",
    "silver_sales = silver_sales.withColumn('Ref', upper('Ref'))\n",
    "\n",
    "# Cleaning Year column (removing erroneously declared data)\n",
    "silver_sales = silver_sales.where(col('OrderID') != 'ARMAÇÃO DA HOLY')\n",
    "silver_sales = silver_sales.where(col('Year') != 'OBRO')\n",
    "silver_sales = silver_sales.where(col('Year') != '-0')\n",
    "silver_sales = silver_sales.where(col('Year') != '')\n",
    "\n",
    "# Creating Sales Table Temp View\n",
    "silver_sales.createOrReplaceTempView('temp_silver_sales')"
   ]
  },
  {
   "cell_type": "code",
   "execution_count": 0,
   "metadata": {
    "application/vnd.databricks.v1+cell": {
     "cellMetadata": {
      "byteLimit": 2048000,
      "rowLimit": 10000
     },
     "inputWidgets": {},
     "nuid": "afe09570-dfde-483d-860d-569cbaf5b26a",
     "showTitle": false,
     "tableResultSettingsMap": {},
     "title": ""
    }
   },
   "outputs": [
    {
     "output_type": "stream",
     "name": "stdout",
     "output_type": "stream",
     "text": [
      "All values ​​in 'Ref' are unique.\n"
     ]
    }
   ],
   "source": [
    "# PRODUCT DF\n",
    "\n",
    "# Removing duplicates with emphasis on the Ref column\n",
    "silver_products = bronze_products.dropDuplicates().dropDuplicates(['Referência'])\n",
    "\n",
    "# Selecting only required columns\n",
    "silver_products = silver_products.select([\n",
    " 'Referência',\n",
    " 'Descrição',\n",
    " 'Fornecedor',\n",
    " 'Grupo',\n",
    " 'Subgrupo',\n",
    " 'Grife',\n",
    " 'Preco de custo',\n",
    " 'Preco de Venda'\n",
    "])\n",
    "\n",
    "# Renaming columns\n",
    "silver_products = silver_products.withColumnsRenamed(\n",
    "    {\n",
    "        'Referência':'Ref',\n",
    "        'Descrição':'Description',\n",
    "        'Fornecedor':'Supplier',\n",
    "        'Grupo':'Group',\n",
    "        'Subgrupo':'Style',\n",
    "        'Grife':'Brand',\n",
    "        'Preco de custo':'Cost_price',\n",
    "        'Preco de Venda':'Sale_price'\n",
    "    }\n",
    ")\n",
    "\n",
    "# Droping Null values (all null lines)\n",
    "silver_products = silver_products.dropna(how='all')\n",
    "\n",
    "# Adjusting values ponctuation and Columns types\n",
    "silver_products = silver_products.withColumn('Cost_price', regexp_replace(col('Cost_price'), ',', '.'))\\\n",
    "    .withColumn('Sale_price', regexp_replace(col('Sale_price'), ',', '.'))\\\n",
    "    .withColumn('Cost_price', col('Cost_price').cast('float'))\\\n",
    "    .withColumn('Sale_price', col('Sale_price').cast('float'))\n",
    "\n",
    "# Adding Margin column\n",
    "silver_products = silver_products.withColumn('Margin', col('Sale_price') - col('Cost_price'))\n",
    "\n",
    "# Adjusting Refs to uppercase (to avoid typing mismatches)\n",
    "silver_products = silver_products.withColumn('Ref', upper('Ref'))\n",
    "\n",
    "# Checking for any duplicate Ref\n",
    "total_count = silver_products.count()\n",
    "distinct_count = silver_products.select(\"Ref\").distinct().count()\n",
    "\n",
    "if total_count == distinct_count:\n",
    "    print(\"All values ​​in 'Ref' are unique.\")\n",
    "else:\n",
    "    print(f\"There are {total_count - distinct_count} duplicates in column 'Ref'.\")\n",
    "\n",
    "# Creating Products Table Temp View\n",
    "silver_products.createOrReplaceTempView('temp_silver_products')"
   ]
  },
  {
   "cell_type": "code",
   "execution_count": 0,
   "metadata": {
    "application/vnd.databricks.v1+cell": {
     "cellMetadata": {
      "byteLimit": 2048000,
      "rowLimit": 10000
     },
     "inputWidgets": {},
     "nuid": "3a746775-ff9e-444b-811b-827066ced65a",
     "showTitle": false,
     "tableResultSettingsMap": {},
     "title": ""
    }
   },
   "outputs": [],
   "source": [
    "# CUSTOMERS DF\n",
    "\n",
    "# Removing duplicates\n",
    "silver_customers = bronze_customers.dropDuplicates()\n",
    "\n",
    "# Selecting only required columns\n",
    "silver_customers = silver_customers.select(['Documento',\n",
    " 'Nome / Razão Social',\n",
    " 'Idade',\n",
    " 'Número de Vendas',\n",
    " 'Última Venda',\n",
    " 'Valor Total de Vendas'])\n",
    "\n",
    "# Renaming columns\n",
    "silver_customers = silver_customers.withColumnsRenamed(\n",
    "        {'Documento':'CustomerID',\n",
    "        'Nome / Razão Social':'Name',\n",
    "        'Idade':'Age',\n",
    "        'Número de Vendas':'Sales_qtd',\n",
    "        'Última Venda':'Last_sale',\n",
    "        'Valor Total de Vendas':'Total_sales'}\n",
    ")\n",
    "\n",
    "# Droping Null values (all null lines)\n",
    "silver_customers = silver_customers.dropna('all')\n",
    "\n",
    "# Adjusting values ponctuation and Columns types\n",
    "silver_customers = silver_customers.withColumn('Total_sales', regexp_replace(col('Total_sales'), ',', '.'))\\\n",
    "    .withColumn('Total_sales', col('Total_sales').cast('float'))\n",
    "\n",
    "# Creating new columns (last year sale)\n",
    "silver_customers = silver_customers.withColumn('Last_year_sale', substring(col('Last_sale'), 7, 4))\n",
    "\n",
    "# Filling ID Null values with 'ND' (Not Declared)\n",
    "silver_customers = silver_customers.fillna({'CustomerID':'ND'})\n",
    "\n",
    "# Creating Customers Table Temp View\n",
    "silver_customers.createOrReplaceTempView('temp_silver_customers')"
   ]
  },
  {
   "cell_type": "code",
   "execution_count": 0,
   "metadata": {
    "application/vnd.databricks.v1+cell": {
     "cellMetadata": {
      "byteLimit": 2048000,
      "rowLimit": 10000
     },
     "inputWidgets": {},
     "nuid": "eed44494-8273-4185-ac84-eeec450197ad",
     "showTitle": false,
     "tableResultSettingsMap": {},
     "title": ""
    }
   },
   "outputs": [],
   "source": [
    "# Finishing Silver Layer\n",
    "# Starting Gold Layer"
   ]
  },
  {
   "cell_type": "code",
   "execution_count": 0,
   "metadata": {
    "application/vnd.databricks.v1+cell": {
     "cellMetadata": {
      "byteLimit": 2048000,
      "implicitDf": true,
      "rowLimit": 10000
     },
     "inputWidgets": {},
     "nuid": "d102d997-7f21-42e2-a10a-97377853161c",
     "showTitle": false,
     "tableResultSettingsMap": {},
     "title": ""
    }
   },
   "outputs": [
    {
     "output_type": "display_data",
     "data": {
      "text/html": [
       "<style scoped>\n",
       "  .table-result-container {\n",
       "    max-height: 300px;\n",
       "    overflow: auto;\n",
       "  }\n",
       "  table, th, td {\n",
       "    border: 1px solid black;\n",
       "    border-collapse: collapse;\n",
       "  }\n",
       "  th, td {\n",
       "    padding: 5px;\n",
       "  }\n",
       "  th {\n",
       "    text-align: left;\n",
       "  }\n",
       "</style><div class='table-result-container'><table class='table-result'><thead style='background-color: white'><tr><th>num_affected_rows</th><th>num_inserted_rows</th></tr></thead><tbody></tbody></table></div>"
      ]
     },
     "metadata": {
      "application/vnd.databricks.v1+output": {
       "addedWidgets": {},
       "aggData": [],
       "aggError": "",
       "aggOverflow": false,
       "aggSchema": [],
       "aggSeriesLimitReached": false,
       "aggType": "",
       "arguments": {},
       "columnCustomDisplayInfos": {},
       "data": [],
       "datasetInfos": [],
       "dbfsResultPath": null,
       "isJsonSchema": true,
       "metadata": {
        "dataframeName": "_sqldf",
        "executionCount": 66
       },
       "overflow": false,
       "plotOptions": {
        "customPlotOptions": {},
        "displayType": "table",
        "pivotAggregation": null,
        "pivotColumns": null,
        "xColumns": null,
        "yColumns": null
       },
       "removedWidgets": [],
       "schema": [
        {
         "metadata": "{}",
         "name": "num_affected_rows",
         "type": "\"long\""
        },
        {
         "metadata": "{}",
         "name": "num_inserted_rows",
         "type": "\"long\""
        }
       ],
       "type": "table"
      }
     },
     "output_type": "display_data"
    }
   ],
   "source": [
    "%sql\n",
    "\n",
    "-- Creating gold table using sales, customers and products tables\n",
    "CREATE OR REPLACE TABLE gold_sales AS\n",
    "SELECT\n",
    "    sales.OrderID,\n",
    "    sales.Date,\n",
    "    sales.OS_number,\n",
    "    sales.Employee,\n",
    "    sales.Customer,\n",
    "    sales.CustomerID,\n",
    "    customers.Age AS Customer_Age,\n",
    "    customers.Sales_qtd AS Customer_Sales_qtd,\n",
    "    customers.Last_sale AS Customer_Last_sale,\n",
    "    customers.Total_sales AS Customer_Total_sales,\n",
    "    customers.Last_year_sale AS Customer_Last_year_sale,\n",
    "    sales.Ref AS Product_Ref,\n",
    "    sales.Description AS Product_Description,\n",
    "    products.Supplier AS Product_Supplier,\n",
    "    products.Group AS Product_Group,\n",
    "    products.Style AS Product_Style,\n",
    "    products.Brand AS Product_Brand,\n",
    "    products.Cost_price AS Product_Cost_price,\n",
    "    products.Sale_price AS Product_Sale_price,\n",
    "    products.Margin AS Product_Margin,\n",
    "    sales.Qtd,\n",
    "    sales.Original_price,\n",
    "    sales.Total_price,\n",
    "    sales.Price_diff,\n",
    "    sales.Final_price,\n",
    "    sales.Month,\n",
    "    sales.Year\n",
    "FROM\n",
    "    temp_silver_sales AS sales\n",
    "JOIN\n",
    "    temp_silver_customers AS customers\n",
    "ON\n",
    "    sales.CustomerID = customers.CustomerID\n",
    "JOIN\n",
    "    temp_silver_products AS products\n",
    "ON\n",
    "    sales.Ref = products.Ref\n"
   ]
  },
  {
   "cell_type": "code",
   "execution_count": 0,
   "metadata": {
    "application/vnd.databricks.v1+cell": {
     "cellMetadata": {
      "byteLimit": 2048000,
      "implicitDf": true,
      "rowLimit": 10000
     },
     "inputWidgets": {},
     "nuid": "73b3a1b0-ba6f-4ced-a093-4019ea4bd7fb",
     "showTitle": false,
     "tableResultSettingsMap": {},
     "title": ""
    }
   },
   "outputs": [
    {
     "output_type": "display_data",
     "data": {
      "text/html": [
       "<style scoped>\n",
       "  .table-result-container {\n",
       "    max-height: 300px;\n",
       "    overflow: auto;\n",
       "  }\n",
       "  table, th, td {\n",
       "    border: 1px solid black;\n",
       "    border-collapse: collapse;\n",
       "  }\n",
       "  th, td {\n",
       "    padding: 5px;\n",
       "  }\n",
       "  th {\n",
       "    text-align: left;\n",
       "  }\n",
       "</style><div class='table-result-container'><table class='table-result'><thead style='background-color: white'><tr><th>Year</th><th>Total_Sales</th></tr></thead><tbody><tr><td>2024</td><td>1,119,996</td></tr><tr><td>2023</td><td>1,184,269</td></tr><tr><td>2022</td><td>1,138,643</td></tr><tr><td>2021</td><td>777,015</td></tr><tr><td>2020</td><td>548,524</td></tr></tbody></table></div>"
      ]
     },
     "metadata": {
      "application/vnd.databricks.v1+output": {
       "addedWidgets": {},
       "aggData": [],
       "aggError": "",
       "aggOverflow": false,
       "aggSchema": [],
       "aggSeriesLimitReached": false,
       "aggType": "",
       "arguments": {},
       "columnCustomDisplayInfos": {},
       "data": [
        [
         "2024",
         "1,119,996"
        ],
        [
         "2023",
         "1,184,269"
        ],
        [
         "2022",
         "1,138,643"
        ],
        [
         "2021",
         "777,015"
        ],
        [
         "2020",
         "548,524"
        ]
       ],
       "datasetInfos": [],
       "dbfsResultPath": null,
       "isJsonSchema": true,
       "metadata": {
        "dataframeName": "_sqldf",
        "executionCount": 88
       },
       "overflow": false,
       "plotOptions": {
        "customPlotOptions": {},
        "displayType": "table",
        "pivotAggregation": null,
        "pivotColumns": null,
        "xColumns": null,
        "yColumns": null
       },
       "removedWidgets": [],
       "schema": [
        {
         "metadata": "{}",
         "name": "Year",
         "type": "\"string\""
        },
        {
         "metadata": "{}",
         "name": "Total_Sales",
         "type": "\"string\""
        }
       ],
       "type": "table"
      }
     },
     "output_type": "display_data"
    }
   ],
   "source": [
    "%sql\n",
    "\n",
    "-- Sales by Year (in early november 2024)\n",
    "SELECT Year, FORMAT_NUMBER(ROUND(SUM(Final_Price)), 0) AS Total_Sales\n",
    "FROM gold_sales\n",
    "GROUP BY Year\n",
    "ORDER BY Year DESC\n"
   ]
  },
  {
   "cell_type": "code",
   "execution_count": 0,
   "metadata": {
    "application/vnd.databricks.v1+cell": {
     "cellMetadata": {
      "byteLimit": 2048000,
      "implicitDf": true,
      "rowLimit": 10000
     },
     "inputWidgets": {},
     "nuid": "d922cfb0-73d7-48ae-8841-f990e2385481",
     "showTitle": false,
     "tableResultSettingsMap": {},
     "title": ""
    }
   },
   "outputs": [
    {
     "output_type": "display_data",
     "data": {
      "text/html": [
       "<style scoped>\n",
       "  .table-result-container {\n",
       "    max-height: 300px;\n",
       "    overflow: auto;\n",
       "  }\n",
       "  table, th, td {\n",
       "    border: 1px solid black;\n",
       "    border-collapse: collapse;\n",
       "  }\n",
       "  th, td {\n",
       "    padding: 5px;\n",
       "  }\n",
       "  th {\n",
       "    text-align: left;\n",
       "  }\n",
       "</style><div class='table-result-container'><table class='table-result'><thead style='background-color: white'><tr><th>Censured_name</th><th>total_purchases</th></tr></thead><tbody><tr><td>Alexandre Censured</td><td>22</td></tr><tr><td>Shirlei Censured</td><td>19</td></tr><tr><td>Alexandre Censured</td><td>19</td></tr><tr><td>Maria Censured</td><td>18</td></tr><tr><td>Ingrid Censured</td><td>18</td></tr><tr><td>Fabiana Censured</td><td>17</td></tr><tr><td>Dionísio Censured</td><td>17</td></tr><tr><td>Priscila Censured</td><td>17</td></tr><tr><td>Rita Censured</td><td>16</td></tr><tr><td>Soraia Censured</td><td>16</td></tr></tbody></table></div>"
      ]
     },
     "metadata": {
      "application/vnd.databricks.v1+output": {
       "addedWidgets": {},
       "aggData": [],
       "aggError": "",
       "aggOverflow": false,
       "aggSchema": [],
       "aggSeriesLimitReached": false,
       "aggType": "",
       "arguments": {},
       "columnCustomDisplayInfos": {},
       "data": [
        [
         "Alexandre Censured",
         22
        ],
        [
         "Shirlei Censured",
         19
        ],
        [
         "Alexandre Censured",
         19
        ],
        [
         "Maria Censured",
         18
        ],
        [
         "Ingrid Censured",
         18
        ],
        [
         "Fabiana Censured",
         17
        ],
        [
         "Dionísio Censured",
         17
        ],
        [
         "Priscila Censured",
         17
        ],
        [
         "Rita Censured",
         16
        ],
        [
         "Soraia Censured",
         16
        ]
       ],
       "datasetInfos": [],
       "dbfsResultPath": null,
       "isJsonSchema": true,
       "metadata": {
        "dataframeName": "_sqldf",
        "executionCount": 80
       },
       "overflow": false,
       "plotOptions": {
        "customPlotOptions": {},
        "displayType": "table",
        "pivotAggregation": null,
        "pivotColumns": null,
        "xColumns": null,
        "yColumns": null
       },
       "removedWidgets": [],
       "schema": [
        {
         "metadata": "{}",
         "name": "Censured_name",
         "type": "\"string\""
        },
        {
         "metadata": "{}",
         "name": "total_purchases",
         "type": "\"long\""
        }
       ],
       "type": "table"
      }
     },
     "output_type": "display_data"
    }
   ],
   "source": [
    "%sql\n",
    "\n",
    "-- Consumers with larger purchase quantities\n",
    "SELECT SPLIT(Customer, ' ')[0] || ' Censured' AS Censured_name, COUNT(OrderID) AS total_purchases\n",
    "FROM gold_sales\n",
    "WHERE Customer NOT LIKE \"Cliente Padrão\"\n",
    "GROUP BY Customer\n",
    "ORDER BY total_purchases DESC\n",
    "LIMIT 10\n"
   ]
  },
  {
   "cell_type": "code",
   "execution_count": 0,
   "metadata": {
    "application/vnd.databricks.v1+cell": {
     "cellMetadata": {
      "byteLimit": 2048000,
      "implicitDf": true,
      "rowLimit": 10000
     },
     "inputWidgets": {},
     "nuid": "300f3042-9231-407a-a727-a85ebe895f1d",
     "showTitle": false,
     "tableResultSettingsMap": {},
     "title": ""
    }
   },
   "outputs": [
    {
     "output_type": "display_data",
     "data": {
      "text/html": [
       "<style scoped>\n",
       "  .table-result-container {\n",
       "    max-height: 300px;\n",
       "    overflow: auto;\n",
       "  }\n",
       "  table, th, td {\n",
       "    border: 1px solid black;\n",
       "    border-collapse: collapse;\n",
       "  }\n",
       "  th, td {\n",
       "    padding: 5px;\n",
       "  }\n",
       "  th {\n",
       "    text-align: left;\n",
       "  }\n",
       "</style><div class='table-result-container'><table class='table-result'><thead style='background-color: white'><tr><th>Product_Style</th><th>Total_Count</th></tr></thead><tbody><tr><td>Quadrado</td><td>271</td></tr><tr><td>Redondo</td><td>225</td></tr><tr><td>Gatinho Quadrado</td><td>58</td></tr><tr><td>Gatinho</td><td>54</td></tr><tr><td>Quadrado Nylon</td><td>36</td></tr><tr><td>Gatinho Redondo</td><td>33</td></tr><tr><td>Aviador</td><td>31</td></tr><tr><td>Redondo Titanium</td><td>28</td></tr><tr><td>Gatinho Balgriff</td><td>26</td></tr><tr><td>Gatinho Quadrado Titanium</td><td>18</td></tr><tr><td>Caçador</td><td>13</td></tr><tr><td>Hexagonal</td><td>12</td></tr><tr><td>Clubmaster</td><td>12</td></tr><tr><td>Gatinho Quadrado Balgriff</td><td>11</td></tr><tr><td>Quadrado Titanium</td><td>6</td></tr><tr><td>Gatinho Nylon</td><td>4</td></tr><tr><td>Quadrado Nylon Titanium</td><td>3</td></tr><tr><td>Quadrado Balgriff Titanium</td><td>1</td></tr><tr><td>Redondo Nylon</td><td>1</td></tr></tbody></table></div>"
      ]
     },
     "metadata": {
      "application/vnd.databricks.v1+output": {
       "addedWidgets": {},
       "aggData": [],
       "aggError": "",
       "aggOverflow": false,
       "aggSchema": [],
       "aggSeriesLimitReached": false,
       "aggType": "",
       "arguments": {},
       "columnCustomDisplayInfos": {},
       "data": [
        [
         "Quadrado",
         271
        ],
        [
         "Redondo",
         225
        ],
        [
         "Gatinho Quadrado",
         58
        ],
        [
         "Gatinho",
         54
        ],
        [
         "Quadrado Nylon",
         36
        ],
        [
         "Gatinho Redondo",
         33
        ],
        [
         "Aviador",
         31
        ],
        [
         "Redondo Titanium",
         28
        ],
        [
         "Gatinho Balgriff",
         26
        ],
        [
         "Gatinho Quadrado Titanium",
         18
        ],
        [
         "Caçador",
         13
        ],
        [
         "Hexagonal",
         12
        ],
        [
         "Clubmaster",
         12
        ],
        [
         "Gatinho Quadrado Balgriff",
         11
        ],
        [
         "Quadrado Titanium",
         6
        ],
        [
         "Gatinho Nylon",
         4
        ],
        [
         "Quadrado Nylon Titanium",
         3
        ],
        [
         "Quadrado Balgriff Titanium",
         1
        ],
        [
         "Redondo Nylon",
         1
        ]
       ],
       "datasetInfos": [],
       "dbfsResultPath": null,
       "isJsonSchema": true,
       "metadata": {
        "dataframeName": "_sqldf",
        "executionCount": 68
       },
       "overflow": false,
       "plotOptions": {
        "customPlotOptions": {},
        "displayType": "table",
        "pivotAggregation": null,
        "pivotColumns": null,
        "xColumns": null,
        "yColumns": null
       },
       "removedWidgets": [],
       "schema": [
        {
         "metadata": "{}",
         "name": "Product_Style",
         "type": "\"string\""
        },
        {
         "metadata": "{}",
         "name": "Total_Count",
         "type": "\"long\""
        }
       ],
       "type": "table"
      }
     },
     "output_type": "display_data"
    }
   ],
   "source": [
    "%sql\n",
    "\n",
    "-- Checking which Style sells the most\n",
    "SELECT Product_Style, COUNT(OrderID) as Total_Count FROM gold_sales\n",
    "WHERE Product_Style IS NOT NULL\n",
    "GROUP BY Product_Style\n",
    "ORDER BY Total_Count DESC"
   ]
  }
 ],
 "metadata": {
  "application/vnd.databricks.v1+notebook": {
   "dashboards": [],
   "environmentMetadata": null,
   "language": "python",
   "notebookMetadata": {
    "mostRecentlyExecutedCommandWithImplicitDF": {
     "commandId": 3534355088601024,
     "dataframes": [
      "_sqldf"
     ]
    },
    "pythonIndentUnit": 4
   },
   "notebookName": "SBC - Total",
   "widgets": {}
  }
 },
 "nbformat": 4,
 "nbformat_minor": 0
}
